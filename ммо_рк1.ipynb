{
  "nbformat": 4,
  "nbformat_minor": 0,
  "metadata": {
    "colab": {
      "name": "ммо рк1.ipynb",
      "provenance": [],
      "collapsed_sections": []
    },
    "kernelspec": {
      "name": "python3",
      "display_name": "Python 3"
    },
    "language_info": {
      "name": "python"
    }
  },
  "cells": [
    {
      "cell_type": "markdown",
      "source": [
        "Рубежный контроль №1\n",
        "Студент: Ян Тяньци\n",
        "Группа: ИУ5И-21М\n",
        "Вариант: 20\n",
        "Задачи: 20, 40\n",
        "1. Задача №20"
      ],
      "metadata": {
        "id": "3FGIFeQqVzgH"
      }
    },
    {
      "cell_type": "code",
      "execution_count": 1,
      "metadata": {
        "id": "fqjXkliMQB80"
      },
      "outputs": [],
      "source": [
        "import numpy as np\n",
        "import pandas as pd\n",
        "import matplotlib.pyplot as plt\n",
        "import seaborn as sns\n",
        "from sklearn.datasets import load_boston\n",
        "from sklearn.feature_selection import mutual_info_classif, mutual_info_regression\n",
        "from sklearn.model_selection import train_test_split\n",
        "color=sns.color_palette()\n",
        "sns.set_style('darkgrid')\n",
        "pd.set_option('display.float_format',lambda x: '{:.3f}'.format(x))\n",
        "%matplotlib inline"
      ]
    },
    {
      "cell_type": "code",
      "source": [
        "data = pd.read_csv('china_population_forecast.csv')\n",
        "df=data.dropna()\n",
        "df.info()\n",
        "df.head()"
      ],
      "metadata": {
        "colab": {
          "base_uri": "https://localhost:8080/",
          "height": 632
        },
        "id": "S-S7TnWdQbSB",
        "outputId": "8a00434b-85df-4642-9130-4a200d4704e1"
      },
      "execution_count": 2,
      "outputs": [
        {
          "output_type": "stream",
          "name": "stdout",
          "text": [
            "<class 'pandas.core.frame.DataFrame'>\n",
            "Int64Index: 7 entries, 0 to 6\n",
            "Data columns (total 13 columns):\n",
            " #   Column                        Non-Null Count  Dtype  \n",
            "---  ------                        --------------  -----  \n",
            " 0   Year                          7 non-null      int64  \n",
            " 1   Population                    7 non-null      int64  \n",
            " 2   Yearly % Change               7 non-null      float64\n",
            " 3   Yearly Change                 7 non-null      int64  \n",
            " 4   Migrants (net)                7 non-null      int64  \n",
            " 5   Median Age                    7 non-null      float64\n",
            " 6   Fertility Rate                7 non-null      float64\n",
            " 7   Density (P/Km²)               7 non-null      int64  \n",
            " 8   Urban Pop %                   7 non-null      float64\n",
            " 9   Urban Population              7 non-null      int64  \n",
            " 10  Country's Share of World Pop  7 non-null      float64\n",
            " 11  World Population              7 non-null      int64  \n",
            " 12  China Global Rank             7 non-null      int64  \n",
            "dtypes: float64(5), int64(8)\n",
            "memory usage: 784.0 bytes\n"
          ]
        },
        {
          "output_type": "execute_result",
          "data": {
            "text/plain": [
              "   Year  Population  Yearly % Change  Yearly Change  Migrants (net)  \\\n",
              "0  2020  1439323776            0.460        6495181         -348399   \n",
              "1  2025  1457908249            0.260        3716895         -371264   \n",
              "2  2030  1464340159            0.090        1286382         -352100   \n",
              "3  2035  1461083029           -0.040        -651426         -311798   \n",
              "4  2040  1449031423           -0.170       -2410321         -311801   \n",
              "\n",
              "   Median Age  Fertility Rate  Density (P/Km²)  Urban Pop %  Urban Population  \\\n",
              "0      38.400           1.690              153       60.800         875075919   \n",
              "1      40.200           1.690              155       65.600         956553854   \n",
              "2      42.600           1.690              156       69.500        1017847445   \n",
              "3      45.000           1.690              156       72.500        1059618626   \n",
              "4      46.300           1.690              154       74.800        1083464035   \n",
              "\n",
              "   Country's Share of World Pop  World Population  China Global Rank  \n",
              "0                        18.470        7794798739                  1  \n",
              "1                        17.810        8184437460                  1  \n",
              "2                        17.130        8548487400                  2  \n",
              "3                        16.440        8887524213                  2  \n",
              "4                        15.750        9198847240                  2  "
            ],
            "text/html": [
              "\n",
              "  <div id=\"df-6bf326fc-bae0-4722-bdfe-7127a68378d0\">\n",
              "    <div class=\"colab-df-container\">\n",
              "      <div>\n",
              "<style scoped>\n",
              "    .dataframe tbody tr th:only-of-type {\n",
              "        vertical-align: middle;\n",
              "    }\n",
              "\n",
              "    .dataframe tbody tr th {\n",
              "        vertical-align: top;\n",
              "    }\n",
              "\n",
              "    .dataframe thead th {\n",
              "        text-align: right;\n",
              "    }\n",
              "</style>\n",
              "<table border=\"1\" class=\"dataframe\">\n",
              "  <thead>\n",
              "    <tr style=\"text-align: right;\">\n",
              "      <th></th>\n",
              "      <th>Year</th>\n",
              "      <th>Population</th>\n",
              "      <th>Yearly % Change</th>\n",
              "      <th>Yearly Change</th>\n",
              "      <th>Migrants (net)</th>\n",
              "      <th>Median Age</th>\n",
              "      <th>Fertility Rate</th>\n",
              "      <th>Density (P/Km²)</th>\n",
              "      <th>Urban Pop %</th>\n",
              "      <th>Urban Population</th>\n",
              "      <th>Country's Share of World Pop</th>\n",
              "      <th>World Population</th>\n",
              "      <th>China Global Rank</th>\n",
              "    </tr>\n",
              "  </thead>\n",
              "  <tbody>\n",
              "    <tr>\n",
              "      <th>0</th>\n",
              "      <td>2020</td>\n",
              "      <td>1439323776</td>\n",
              "      <td>0.460</td>\n",
              "      <td>6495181</td>\n",
              "      <td>-348399</td>\n",
              "      <td>38.400</td>\n",
              "      <td>1.690</td>\n",
              "      <td>153</td>\n",
              "      <td>60.800</td>\n",
              "      <td>875075919</td>\n",
              "      <td>18.470</td>\n",
              "      <td>7794798739</td>\n",
              "      <td>1</td>\n",
              "    </tr>\n",
              "    <tr>\n",
              "      <th>1</th>\n",
              "      <td>2025</td>\n",
              "      <td>1457908249</td>\n",
              "      <td>0.260</td>\n",
              "      <td>3716895</td>\n",
              "      <td>-371264</td>\n",
              "      <td>40.200</td>\n",
              "      <td>1.690</td>\n",
              "      <td>155</td>\n",
              "      <td>65.600</td>\n",
              "      <td>956553854</td>\n",
              "      <td>17.810</td>\n",
              "      <td>8184437460</td>\n",
              "      <td>1</td>\n",
              "    </tr>\n",
              "    <tr>\n",
              "      <th>2</th>\n",
              "      <td>2030</td>\n",
              "      <td>1464340159</td>\n",
              "      <td>0.090</td>\n",
              "      <td>1286382</td>\n",
              "      <td>-352100</td>\n",
              "      <td>42.600</td>\n",
              "      <td>1.690</td>\n",
              "      <td>156</td>\n",
              "      <td>69.500</td>\n",
              "      <td>1017847445</td>\n",
              "      <td>17.130</td>\n",
              "      <td>8548487400</td>\n",
              "      <td>2</td>\n",
              "    </tr>\n",
              "    <tr>\n",
              "      <th>3</th>\n",
              "      <td>2035</td>\n",
              "      <td>1461083029</td>\n",
              "      <td>-0.040</td>\n",
              "      <td>-651426</td>\n",
              "      <td>-311798</td>\n",
              "      <td>45.000</td>\n",
              "      <td>1.690</td>\n",
              "      <td>156</td>\n",
              "      <td>72.500</td>\n",
              "      <td>1059618626</td>\n",
              "      <td>16.440</td>\n",
              "      <td>8887524213</td>\n",
              "      <td>2</td>\n",
              "    </tr>\n",
              "    <tr>\n",
              "      <th>4</th>\n",
              "      <td>2040</td>\n",
              "      <td>1449031423</td>\n",
              "      <td>-0.170</td>\n",
              "      <td>-2410321</td>\n",
              "      <td>-311801</td>\n",
              "      <td>46.300</td>\n",
              "      <td>1.690</td>\n",
              "      <td>154</td>\n",
              "      <td>74.800</td>\n",
              "      <td>1083464035</td>\n",
              "      <td>15.750</td>\n",
              "      <td>9198847240</td>\n",
              "      <td>2</td>\n",
              "    </tr>\n",
              "  </tbody>\n",
              "</table>\n",
              "</div>\n",
              "      <button class=\"colab-df-convert\" onclick=\"convertToInteractive('df-6bf326fc-bae0-4722-bdfe-7127a68378d0')\"\n",
              "              title=\"Convert this dataframe to an interactive table.\"\n",
              "              style=\"display:none;\">\n",
              "        \n",
              "  <svg xmlns=\"http://www.w3.org/2000/svg\" height=\"24px\"viewBox=\"0 0 24 24\"\n",
              "       width=\"24px\">\n",
              "    <path d=\"M0 0h24v24H0V0z\" fill=\"none\"/>\n",
              "    <path d=\"M18.56 5.44l.94 2.06.94-2.06 2.06-.94-2.06-.94-.94-2.06-.94 2.06-2.06.94zm-11 1L8.5 8.5l.94-2.06 2.06-.94-2.06-.94L8.5 2.5l-.94 2.06-2.06.94zm10 10l.94 2.06.94-2.06 2.06-.94-2.06-.94-.94-2.06-.94 2.06-2.06.94z\"/><path d=\"M17.41 7.96l-1.37-1.37c-.4-.4-.92-.59-1.43-.59-.52 0-1.04.2-1.43.59L10.3 9.45l-7.72 7.72c-.78.78-.78 2.05 0 2.83L4 21.41c.39.39.9.59 1.41.59.51 0 1.02-.2 1.41-.59l7.78-7.78 2.81-2.81c.8-.78.8-2.07 0-2.86zM5.41 20L4 18.59l7.72-7.72 1.47 1.35L5.41 20z\"/>\n",
              "  </svg>\n",
              "      </button>\n",
              "      \n",
              "  <style>\n",
              "    .colab-df-container {\n",
              "      display:flex;\n",
              "      flex-wrap:wrap;\n",
              "      gap: 12px;\n",
              "    }\n",
              "\n",
              "    .colab-df-convert {\n",
              "      background-color: #E8F0FE;\n",
              "      border: none;\n",
              "      border-radius: 50%;\n",
              "      cursor: pointer;\n",
              "      display: none;\n",
              "      fill: #1967D2;\n",
              "      height: 32px;\n",
              "      padding: 0 0 0 0;\n",
              "      width: 32px;\n",
              "    }\n",
              "\n",
              "    .colab-df-convert:hover {\n",
              "      background-color: #E2EBFA;\n",
              "      box-shadow: 0px 1px 2px rgba(60, 64, 67, 0.3), 0px 1px 3px 1px rgba(60, 64, 67, 0.15);\n",
              "      fill: #174EA6;\n",
              "    }\n",
              "\n",
              "    [theme=dark] .colab-df-convert {\n",
              "      background-color: #3B4455;\n",
              "      fill: #D2E3FC;\n",
              "    }\n",
              "\n",
              "    [theme=dark] .colab-df-convert:hover {\n",
              "      background-color: #434B5C;\n",
              "      box-shadow: 0px 1px 3px 1px rgba(0, 0, 0, 0.15);\n",
              "      filter: drop-shadow(0px 1px 2px rgba(0, 0, 0, 0.3));\n",
              "      fill: #FFFFFF;\n",
              "    }\n",
              "  </style>\n",
              "\n",
              "      <script>\n",
              "        const buttonEl =\n",
              "          document.querySelector('#df-6bf326fc-bae0-4722-bdfe-7127a68378d0 button.colab-df-convert');\n",
              "        buttonEl.style.display =\n",
              "          google.colab.kernel.accessAllowed ? 'block' : 'none';\n",
              "\n",
              "        async function convertToInteractive(key) {\n",
              "          const element = document.querySelector('#df-6bf326fc-bae0-4722-bdfe-7127a68378d0');\n",
              "          const dataTable =\n",
              "            await google.colab.kernel.invokeFunction('convertToInteractive',\n",
              "                                                     [key], {});\n",
              "          if (!dataTable) return;\n",
              "\n",
              "          const docLinkHtml = 'Like what you see? Visit the ' +\n",
              "            '<a target=\"_blank\" href=https://colab.research.google.com/notebooks/data_table.ipynb>data table notebook</a>'\n",
              "            + ' to learn more about interactive tables.';\n",
              "          element.innerHTML = '';\n",
              "          dataTable['output_type'] = 'display_data';\n",
              "          await google.colab.output.renderOutput(dataTable, element);\n",
              "          const docLink = document.createElement('div');\n",
              "          docLink.innerHTML = docLinkHtml;\n",
              "          element.appendChild(docLink);\n",
              "        }\n",
              "      </script>\n",
              "    </div>\n",
              "  </div>\n",
              "  "
            ]
          },
          "metadata": {},
          "execution_count": 2
        }
      ]
    },
    {
      "cell_type": "code",
      "source": [
        "data.head()"
      ],
      "metadata": {
        "colab": {
          "base_uri": "https://localhost:8080/",
          "height": 285
        },
        "id": "5Qk4dSsyQlox",
        "outputId": "8db27119-896f-4b6c-ac61-18b9d327b120"
      },
      "execution_count": 3,
      "outputs": [
        {
          "output_type": "execute_result",
          "data": {
            "text/plain": [
              "   Year  Population  Yearly % Change  Yearly Change  Migrants (net)  \\\n",
              "0  2020  1439323776            0.460        6495181         -348399   \n",
              "1  2025  1457908249            0.260        3716895         -371264   \n",
              "2  2030  1464340159            0.090        1286382         -352100   \n",
              "3  2035  1461083029           -0.040        -651426         -311798   \n",
              "4  2040  1449031423           -0.170       -2410321         -311801   \n",
              "\n",
              "   Median Age  Fertility Rate  Density (P/Km²)  Urban Pop %  Urban Population  \\\n",
              "0      38.400           1.690              153       60.800         875075919   \n",
              "1      40.200           1.690              155       65.600         956553854   \n",
              "2      42.600           1.690              156       69.500        1017847445   \n",
              "3      45.000           1.690              156       72.500        1059618626   \n",
              "4      46.300           1.690              154       74.800        1083464035   \n",
              "\n",
              "   Country's Share of World Pop  World Population  China Global Rank  \n",
              "0                        18.470        7794798739                  1  \n",
              "1                        17.810        8184437460                  1  \n",
              "2                        17.130        8548487400                  2  \n",
              "3                        16.440        8887524213                  2  \n",
              "4                        15.750        9198847240                  2  "
            ],
            "text/html": [
              "\n",
              "  <div id=\"df-d55ee315-0b44-4de4-88a2-4d9afbe9d8dc\">\n",
              "    <div class=\"colab-df-container\">\n",
              "      <div>\n",
              "<style scoped>\n",
              "    .dataframe tbody tr th:only-of-type {\n",
              "        vertical-align: middle;\n",
              "    }\n",
              "\n",
              "    .dataframe tbody tr th {\n",
              "        vertical-align: top;\n",
              "    }\n",
              "\n",
              "    .dataframe thead th {\n",
              "        text-align: right;\n",
              "    }\n",
              "</style>\n",
              "<table border=\"1\" class=\"dataframe\">\n",
              "  <thead>\n",
              "    <tr style=\"text-align: right;\">\n",
              "      <th></th>\n",
              "      <th>Year</th>\n",
              "      <th>Population</th>\n",
              "      <th>Yearly % Change</th>\n",
              "      <th>Yearly Change</th>\n",
              "      <th>Migrants (net)</th>\n",
              "      <th>Median Age</th>\n",
              "      <th>Fertility Rate</th>\n",
              "      <th>Density (P/Km²)</th>\n",
              "      <th>Urban Pop %</th>\n",
              "      <th>Urban Population</th>\n",
              "      <th>Country's Share of World Pop</th>\n",
              "      <th>World Population</th>\n",
              "      <th>China Global Rank</th>\n",
              "    </tr>\n",
              "  </thead>\n",
              "  <tbody>\n",
              "    <tr>\n",
              "      <th>0</th>\n",
              "      <td>2020</td>\n",
              "      <td>1439323776</td>\n",
              "      <td>0.460</td>\n",
              "      <td>6495181</td>\n",
              "      <td>-348399</td>\n",
              "      <td>38.400</td>\n",
              "      <td>1.690</td>\n",
              "      <td>153</td>\n",
              "      <td>60.800</td>\n",
              "      <td>875075919</td>\n",
              "      <td>18.470</td>\n",
              "      <td>7794798739</td>\n",
              "      <td>1</td>\n",
              "    </tr>\n",
              "    <tr>\n",
              "      <th>1</th>\n",
              "      <td>2025</td>\n",
              "      <td>1457908249</td>\n",
              "      <td>0.260</td>\n",
              "      <td>3716895</td>\n",
              "      <td>-371264</td>\n",
              "      <td>40.200</td>\n",
              "      <td>1.690</td>\n",
              "      <td>155</td>\n",
              "      <td>65.600</td>\n",
              "      <td>956553854</td>\n",
              "      <td>17.810</td>\n",
              "      <td>8184437460</td>\n",
              "      <td>1</td>\n",
              "    </tr>\n",
              "    <tr>\n",
              "      <th>2</th>\n",
              "      <td>2030</td>\n",
              "      <td>1464340159</td>\n",
              "      <td>0.090</td>\n",
              "      <td>1286382</td>\n",
              "      <td>-352100</td>\n",
              "      <td>42.600</td>\n",
              "      <td>1.690</td>\n",
              "      <td>156</td>\n",
              "      <td>69.500</td>\n",
              "      <td>1017847445</td>\n",
              "      <td>17.130</td>\n",
              "      <td>8548487400</td>\n",
              "      <td>2</td>\n",
              "    </tr>\n",
              "    <tr>\n",
              "      <th>3</th>\n",
              "      <td>2035</td>\n",
              "      <td>1461083029</td>\n",
              "      <td>-0.040</td>\n",
              "      <td>-651426</td>\n",
              "      <td>-311798</td>\n",
              "      <td>45.000</td>\n",
              "      <td>1.690</td>\n",
              "      <td>156</td>\n",
              "      <td>72.500</td>\n",
              "      <td>1059618626</td>\n",
              "      <td>16.440</td>\n",
              "      <td>8887524213</td>\n",
              "      <td>2</td>\n",
              "    </tr>\n",
              "    <tr>\n",
              "      <th>4</th>\n",
              "      <td>2040</td>\n",
              "      <td>1449031423</td>\n",
              "      <td>-0.170</td>\n",
              "      <td>-2410321</td>\n",
              "      <td>-311801</td>\n",
              "      <td>46.300</td>\n",
              "      <td>1.690</td>\n",
              "      <td>154</td>\n",
              "      <td>74.800</td>\n",
              "      <td>1083464035</td>\n",
              "      <td>15.750</td>\n",
              "      <td>9198847240</td>\n",
              "      <td>2</td>\n",
              "    </tr>\n",
              "  </tbody>\n",
              "</table>\n",
              "</div>\n",
              "      <button class=\"colab-df-convert\" onclick=\"convertToInteractive('df-d55ee315-0b44-4de4-88a2-4d9afbe9d8dc')\"\n",
              "              title=\"Convert this dataframe to an interactive table.\"\n",
              "              style=\"display:none;\">\n",
              "        \n",
              "  <svg xmlns=\"http://www.w3.org/2000/svg\" height=\"24px\"viewBox=\"0 0 24 24\"\n",
              "       width=\"24px\">\n",
              "    <path d=\"M0 0h24v24H0V0z\" fill=\"none\"/>\n",
              "    <path d=\"M18.56 5.44l.94 2.06.94-2.06 2.06-.94-2.06-.94-.94-2.06-.94 2.06-2.06.94zm-11 1L8.5 8.5l.94-2.06 2.06-.94-2.06-.94L8.5 2.5l-.94 2.06-2.06.94zm10 10l.94 2.06.94-2.06 2.06-.94-2.06-.94-.94-2.06-.94 2.06-2.06.94z\"/><path d=\"M17.41 7.96l-1.37-1.37c-.4-.4-.92-.59-1.43-.59-.52 0-1.04.2-1.43.59L10.3 9.45l-7.72 7.72c-.78.78-.78 2.05 0 2.83L4 21.41c.39.39.9.59 1.41.59.51 0 1.02-.2 1.41-.59l7.78-7.78 2.81-2.81c.8-.78.8-2.07 0-2.86zM5.41 20L4 18.59l7.72-7.72 1.47 1.35L5.41 20z\"/>\n",
              "  </svg>\n",
              "      </button>\n",
              "      \n",
              "  <style>\n",
              "    .colab-df-container {\n",
              "      display:flex;\n",
              "      flex-wrap:wrap;\n",
              "      gap: 12px;\n",
              "    }\n",
              "\n",
              "    .colab-df-convert {\n",
              "      background-color: #E8F0FE;\n",
              "      border: none;\n",
              "      border-radius: 50%;\n",
              "      cursor: pointer;\n",
              "      display: none;\n",
              "      fill: #1967D2;\n",
              "      height: 32px;\n",
              "      padding: 0 0 0 0;\n",
              "      width: 32px;\n",
              "    }\n",
              "\n",
              "    .colab-df-convert:hover {\n",
              "      background-color: #E2EBFA;\n",
              "      box-shadow: 0px 1px 2px rgba(60, 64, 67, 0.3), 0px 1px 3px 1px rgba(60, 64, 67, 0.15);\n",
              "      fill: #174EA6;\n",
              "    }\n",
              "\n",
              "    [theme=dark] .colab-df-convert {\n",
              "      background-color: #3B4455;\n",
              "      fill: #D2E3FC;\n",
              "    }\n",
              "\n",
              "    [theme=dark] .colab-df-convert:hover {\n",
              "      background-color: #434B5C;\n",
              "      box-shadow: 0px 1px 3px 1px rgba(0, 0, 0, 0.15);\n",
              "      filter: drop-shadow(0px 1px 2px rgba(0, 0, 0, 0.3));\n",
              "      fill: #FFFFFF;\n",
              "    }\n",
              "  </style>\n",
              "\n",
              "      <script>\n",
              "        const buttonEl =\n",
              "          document.querySelector('#df-d55ee315-0b44-4de4-88a2-4d9afbe9d8dc button.colab-df-convert');\n",
              "        buttonEl.style.display =\n",
              "          google.colab.kernel.accessAllowed ? 'block' : 'none';\n",
              "\n",
              "        async function convertToInteractive(key) {\n",
              "          const element = document.querySelector('#df-d55ee315-0b44-4de4-88a2-4d9afbe9d8dc');\n",
              "          const dataTable =\n",
              "            await google.colab.kernel.invokeFunction('convertToInteractive',\n",
              "                                                     [key], {});\n",
              "          if (!dataTable) return;\n",
              "\n",
              "          const docLinkHtml = 'Like what you see? Visit the ' +\n",
              "            '<a target=\"_blank\" href=https://colab.research.google.com/notebooks/data_table.ipynb>data table notebook</a>'\n",
              "            + ' to learn more about interactive tables.';\n",
              "          element.innerHTML = '';\n",
              "          dataTable['output_type'] = 'display_data';\n",
              "          await google.colab.output.renderOutput(dataTable, element);\n",
              "          const docLink = document.createElement('div');\n",
              "          docLink.innerHTML = docLinkHtml;\n",
              "          element.appendChild(docLink);\n",
              "        }\n",
              "      </script>\n",
              "    </div>\n",
              "  </div>\n",
              "  "
            ]
          },
          "metadata": {},
          "execution_count": 3
        }
      ]
    },
    {
      "cell_type": "code",
      "source": [
        "data.isnull().sum()"
      ],
      "metadata": {
        "colab": {
          "base_uri": "https://localhost:8080/"
        },
        "id": "tWMpcMf4Q-6p",
        "outputId": "2fe79a1e-88c8-4abd-d9c5-fc4dd61e0478"
      },
      "execution_count": 4,
      "outputs": [
        {
          "output_type": "execute_result",
          "data": {
            "text/plain": [
              "Year                            0\n",
              "Population                      0\n",
              "Yearly % Change                 0\n",
              "Yearly Change                   0\n",
              "Migrants (net)                  0\n",
              "Median Age                      0\n",
              "Fertility Rate                  0\n",
              "Density (P/Km²)                 0\n",
              "Urban Pop %                     0\n",
              "Urban Population                0\n",
              "Country's Share of World Pop    0\n",
              "World Population                0\n",
              "China Global Rank               0\n",
              "dtype: int64"
            ]
          },
          "metadata": {},
          "execution_count": 4
        }
      ]
    },
    {
      "cell_type": "code",
      "source": [
        "data.info()"
      ],
      "metadata": {
        "colab": {
          "base_uri": "https://localhost:8080/"
        },
        "id": "41Loe3TxRIYg",
        "outputId": "735762c8-728a-4047-dd96-27c7dc8c222f"
      },
      "execution_count": 5,
      "outputs": [
        {
          "output_type": "stream",
          "name": "stdout",
          "text": [
            "<class 'pandas.core.frame.DataFrame'>\n",
            "RangeIndex: 7 entries, 0 to 6\n",
            "Data columns (total 13 columns):\n",
            " #   Column                        Non-Null Count  Dtype  \n",
            "---  ------                        --------------  -----  \n",
            " 0   Year                          7 non-null      int64  \n",
            " 1   Population                    7 non-null      int64  \n",
            " 2   Yearly % Change               7 non-null      float64\n",
            " 3   Yearly Change                 7 non-null      int64  \n",
            " 4   Migrants (net)                7 non-null      int64  \n",
            " 5   Median Age                    7 non-null      float64\n",
            " 6   Fertility Rate                7 non-null      float64\n",
            " 7   Density (P/Km²)               7 non-null      int64  \n",
            " 8   Urban Pop %                   7 non-null      float64\n",
            " 9   Urban Population              7 non-null      int64  \n",
            " 10  Country's Share of World Pop  7 non-null      float64\n",
            " 11  World Population              7 non-null      int64  \n",
            " 12  China Global Rank             7 non-null      int64  \n",
            "dtypes: float64(5), int64(8)\n",
            "memory usage: 856.0 bytes\n"
          ]
        }
      ]
    },
    {
      "cell_type": "code",
      "source": [
        "max_change=data[\"Yearly Change\"].max()\n",
        "print(max_change)\n",
        "min_change=data[\"Yearly Change\"].min()\n",
        "for i in range(data.shape[0]):\n",
        "       data.iloc[i,3]=(data.iloc[i,3]-min_change)/(max_change-min_change)\n",
        "data.head()"
      ],
      "metadata": {
        "colab": {
          "base_uri": "https://localhost:8080/",
          "height": 302
        },
        "id": "BgYlR6mqRU1w",
        "outputId": "b8a97d75-23c1-4090-c9e6-6ca03ea9e0c1"
      },
      "execution_count": 6,
      "outputs": [
        {
          "output_type": "stream",
          "name": "stdout",
          "text": [
            "6495181\n"
          ]
        },
        {
          "output_type": "execute_result",
          "data": {
            "text/plain": [
              "   Year  Population  Yearly % Change  Yearly Change  Migrants (net)  \\\n",
              "0  2020  1439323776            0.460          1.000         -348399   \n",
              "1  2025  1457908249            0.260          0.766         -371264   \n",
              "2  2030  1464340159            0.090          0.561         -352100   \n",
              "3  2035  1461083029           -0.040          0.398         -311798   \n",
              "4  2040  1449031423           -0.170          0.250         -311801   \n",
              "\n",
              "   Median Age  Fertility Rate  Density (P/Km²)  Urban Pop %  Urban Population  \\\n",
              "0      38.400           1.690              153       60.800         875075919   \n",
              "1      40.200           1.690              155       65.600         956553854   \n",
              "2      42.600           1.690              156       69.500        1017847445   \n",
              "3      45.000           1.690              156       72.500        1059618626   \n",
              "4      46.300           1.690              154       74.800        1083464035   \n",
              "\n",
              "   Country's Share of World Pop  World Population  China Global Rank  \n",
              "0                        18.470        7794798739                  1  \n",
              "1                        17.810        8184437460                  1  \n",
              "2                        17.130        8548487400                  2  \n",
              "3                        16.440        8887524213                  2  \n",
              "4                        15.750        9198847240                  2  "
            ],
            "text/html": [
              "\n",
              "  <div id=\"df-83a4c4bb-a0cd-49b3-8b0b-bec2869372df\">\n",
              "    <div class=\"colab-df-container\">\n",
              "      <div>\n",
              "<style scoped>\n",
              "    .dataframe tbody tr th:only-of-type {\n",
              "        vertical-align: middle;\n",
              "    }\n",
              "\n",
              "    .dataframe tbody tr th {\n",
              "        vertical-align: top;\n",
              "    }\n",
              "\n",
              "    .dataframe thead th {\n",
              "        text-align: right;\n",
              "    }\n",
              "</style>\n",
              "<table border=\"1\" class=\"dataframe\">\n",
              "  <thead>\n",
              "    <tr style=\"text-align: right;\">\n",
              "      <th></th>\n",
              "      <th>Year</th>\n",
              "      <th>Population</th>\n",
              "      <th>Yearly % Change</th>\n",
              "      <th>Yearly Change</th>\n",
              "      <th>Migrants (net)</th>\n",
              "      <th>Median Age</th>\n",
              "      <th>Fertility Rate</th>\n",
              "      <th>Density (P/Km²)</th>\n",
              "      <th>Urban Pop %</th>\n",
              "      <th>Urban Population</th>\n",
              "      <th>Country's Share of World Pop</th>\n",
              "      <th>World Population</th>\n",
              "      <th>China Global Rank</th>\n",
              "    </tr>\n",
              "  </thead>\n",
              "  <tbody>\n",
              "    <tr>\n",
              "      <th>0</th>\n",
              "      <td>2020</td>\n",
              "      <td>1439323776</td>\n",
              "      <td>0.460</td>\n",
              "      <td>1.000</td>\n",
              "      <td>-348399</td>\n",
              "      <td>38.400</td>\n",
              "      <td>1.690</td>\n",
              "      <td>153</td>\n",
              "      <td>60.800</td>\n",
              "      <td>875075919</td>\n",
              "      <td>18.470</td>\n",
              "      <td>7794798739</td>\n",
              "      <td>1</td>\n",
              "    </tr>\n",
              "    <tr>\n",
              "      <th>1</th>\n",
              "      <td>2025</td>\n",
              "      <td>1457908249</td>\n",
              "      <td>0.260</td>\n",
              "      <td>0.766</td>\n",
              "      <td>-371264</td>\n",
              "      <td>40.200</td>\n",
              "      <td>1.690</td>\n",
              "      <td>155</td>\n",
              "      <td>65.600</td>\n",
              "      <td>956553854</td>\n",
              "      <td>17.810</td>\n",
              "      <td>8184437460</td>\n",
              "      <td>1</td>\n",
              "    </tr>\n",
              "    <tr>\n",
              "      <th>2</th>\n",
              "      <td>2030</td>\n",
              "      <td>1464340159</td>\n",
              "      <td>0.090</td>\n",
              "      <td>0.561</td>\n",
              "      <td>-352100</td>\n",
              "      <td>42.600</td>\n",
              "      <td>1.690</td>\n",
              "      <td>156</td>\n",
              "      <td>69.500</td>\n",
              "      <td>1017847445</td>\n",
              "      <td>17.130</td>\n",
              "      <td>8548487400</td>\n",
              "      <td>2</td>\n",
              "    </tr>\n",
              "    <tr>\n",
              "      <th>3</th>\n",
              "      <td>2035</td>\n",
              "      <td>1461083029</td>\n",
              "      <td>-0.040</td>\n",
              "      <td>0.398</td>\n",
              "      <td>-311798</td>\n",
              "      <td>45.000</td>\n",
              "      <td>1.690</td>\n",
              "      <td>156</td>\n",
              "      <td>72.500</td>\n",
              "      <td>1059618626</td>\n",
              "      <td>16.440</td>\n",
              "      <td>8887524213</td>\n",
              "      <td>2</td>\n",
              "    </tr>\n",
              "    <tr>\n",
              "      <th>4</th>\n",
              "      <td>2040</td>\n",
              "      <td>1449031423</td>\n",
              "      <td>-0.170</td>\n",
              "      <td>0.250</td>\n",
              "      <td>-311801</td>\n",
              "      <td>46.300</td>\n",
              "      <td>1.690</td>\n",
              "      <td>154</td>\n",
              "      <td>74.800</td>\n",
              "      <td>1083464035</td>\n",
              "      <td>15.750</td>\n",
              "      <td>9198847240</td>\n",
              "      <td>2</td>\n",
              "    </tr>\n",
              "  </tbody>\n",
              "</table>\n",
              "</div>\n",
              "      <button class=\"colab-df-convert\" onclick=\"convertToInteractive('df-83a4c4bb-a0cd-49b3-8b0b-bec2869372df')\"\n",
              "              title=\"Convert this dataframe to an interactive table.\"\n",
              "              style=\"display:none;\">\n",
              "        \n",
              "  <svg xmlns=\"http://www.w3.org/2000/svg\" height=\"24px\"viewBox=\"0 0 24 24\"\n",
              "       width=\"24px\">\n",
              "    <path d=\"M0 0h24v24H0V0z\" fill=\"none\"/>\n",
              "    <path d=\"M18.56 5.44l.94 2.06.94-2.06 2.06-.94-2.06-.94-.94-2.06-.94 2.06-2.06.94zm-11 1L8.5 8.5l.94-2.06 2.06-.94-2.06-.94L8.5 2.5l-.94 2.06-2.06.94zm10 10l.94 2.06.94-2.06 2.06-.94-2.06-.94-.94-2.06-.94 2.06-2.06.94z\"/><path d=\"M17.41 7.96l-1.37-1.37c-.4-.4-.92-.59-1.43-.59-.52 0-1.04.2-1.43.59L10.3 9.45l-7.72 7.72c-.78.78-.78 2.05 0 2.83L4 21.41c.39.39.9.59 1.41.59.51 0 1.02-.2 1.41-.59l7.78-7.78 2.81-2.81c.8-.78.8-2.07 0-2.86zM5.41 20L4 18.59l7.72-7.72 1.47 1.35L5.41 20z\"/>\n",
              "  </svg>\n",
              "      </button>\n",
              "      \n",
              "  <style>\n",
              "    .colab-df-container {\n",
              "      display:flex;\n",
              "      flex-wrap:wrap;\n",
              "      gap: 12px;\n",
              "    }\n",
              "\n",
              "    .colab-df-convert {\n",
              "      background-color: #E8F0FE;\n",
              "      border: none;\n",
              "      border-radius: 50%;\n",
              "      cursor: pointer;\n",
              "      display: none;\n",
              "      fill: #1967D2;\n",
              "      height: 32px;\n",
              "      padding: 0 0 0 0;\n",
              "      width: 32px;\n",
              "    }\n",
              "\n",
              "    .colab-df-convert:hover {\n",
              "      background-color: #E2EBFA;\n",
              "      box-shadow: 0px 1px 2px rgba(60, 64, 67, 0.3), 0px 1px 3px 1px rgba(60, 64, 67, 0.15);\n",
              "      fill: #174EA6;\n",
              "    }\n",
              "\n",
              "    [theme=dark] .colab-df-convert {\n",
              "      background-color: #3B4455;\n",
              "      fill: #D2E3FC;\n",
              "    }\n",
              "\n",
              "    [theme=dark] .colab-df-convert:hover {\n",
              "      background-color: #434B5C;\n",
              "      box-shadow: 0px 1px 3px 1px rgba(0, 0, 0, 0.15);\n",
              "      filter: drop-shadow(0px 1px 2px rgba(0, 0, 0, 0.3));\n",
              "      fill: #FFFFFF;\n",
              "    }\n",
              "  </style>\n",
              "\n",
              "      <script>\n",
              "        const buttonEl =\n",
              "          document.querySelector('#df-83a4c4bb-a0cd-49b3-8b0b-bec2869372df button.colab-df-convert');\n",
              "        buttonEl.style.display =\n",
              "          google.colab.kernel.accessAllowed ? 'block' : 'none';\n",
              "\n",
              "        async function convertToInteractive(key) {\n",
              "          const element = document.querySelector('#df-83a4c4bb-a0cd-49b3-8b0b-bec2869372df');\n",
              "          const dataTable =\n",
              "            await google.colab.kernel.invokeFunction('convertToInteractive',\n",
              "                                                     [key], {});\n",
              "          if (!dataTable) return;\n",
              "\n",
              "          const docLinkHtml = 'Like what you see? Visit the ' +\n",
              "            '<a target=\"_blank\" href=https://colab.research.google.com/notebooks/data_table.ipynb>data table notebook</a>'\n",
              "            + ' to learn more about interactive tables.';\n",
              "          element.innerHTML = '';\n",
              "          dataTable['output_type'] = 'display_data';\n",
              "          await google.colab.output.renderOutput(dataTable, element);\n",
              "          const docLink = document.createElement('div');\n",
              "          docLink.innerHTML = docLinkHtml;\n",
              "          element.appendChild(docLink);\n",
              "        }\n",
              "      </script>\n",
              "    </div>\n",
              "  </div>\n",
              "  "
            ]
          },
          "metadata": {},
          "execution_count": 6
        }
      ]
    },
    {
      "cell_type": "code",
      "source": [
        "sns.scatterplot(x='Yearly Change',y='Density (P/Km²)',data=df)"
      ],
      "metadata": {
        "colab": {
          "base_uri": "https://localhost:8080/",
          "height": 296
        },
        "id": "aAEEDOLkSrDg",
        "outputId": "e4c75351-1994-4b8c-bc6a-083864693d1e"
      },
      "execution_count": 7,
      "outputs": [
        {
          "output_type": "execute_result",
          "data": {
            "text/plain": [
              "<matplotlib.axes._subplots.AxesSubplot at 0x7fd6cc7f2a50>"
            ]
          },
          "metadata": {},
          "execution_count": 7
        },
        {
          "output_type": "display_data",
          "data": {
            "text/plain": [
              "<Figure size 432x288 with 1 Axes>"
            ],
            "image/png": "[encoded data removed]"
          },
          "metadata": {
            "needs_background": "light"
          }
        }
      ]
    },
    {
      "cell_type": "code",
      "source": [
        "plt.figure(figsize=(12,12))\n",
        "sns.heatmap(data.corr(), annot=True, fmt='.4f')"
      ],
      "metadata": {
        "colab": {
          "base_uri": "https://localhost:8080/",
          "height": 856
        },
        "id": "NT0degwTT96w",
        "outputId": "8343cbff-cb4f-4fa7-f170-97daab2023a1"
      },
      "execution_count": 8,
      "outputs": [
        {
          "output_type": "execute_result",
          "data": {
            "text/plain": [
              "<matplotlib.axes._subplots.AxesSubplot at 0x7fd6cc7f2750>"
            ]
          },
          "metadata": {},
          "execution_count": 8
        },
        {
          "output_type": "display_data",
          "data": {
            "text/plain": [
              "<Figure size 864x864 with 2 Axes>"
            ],
            "image/png": "[encoded data removed]"
          },
          "metadata": {
            "needs_background": "light"
          }
        }
      ]
    },
    {
      "cell_type": "code",
      "source": [
        "import scipy.stats as stats"
      ],
      "metadata": {
        "id": "4neD_4avU9mn"
      },
      "execution_count": 9,
      "outputs": []
    },
    {
      "cell_type": "code",
      "source": [
        "def diagnostic_plots(df, variable):\n",
        "    plt.figure(figsize=(15,6))\n",
        "    plt.subplot(1, 2, 1)\n",
        "    df[variable].hist(bins=30)\n",
        "    plt.subplot(1, 2, 2)\n",
        "    stats.probplot(df[variable], dist=\"norm\", plot = plt)\n",
        "    plt.show()"
      ],
      "metadata": {
        "id": "T-LkzU2mVCJu"
      },
      "execution_count": 10,
      "outputs": []
    },
    {
      "cell_type": "code",
      "source": [
        "data['Median Age_boxcox'], param = stats.boxcox(data['Median Age']) \n",
        "print('Оптимальное значение λ = {}'.format(param))\n",
        "diagnostic_plots(data, 'Median Age_boxcox')"
      ],
      "metadata": {
        "colab": {
          "base_uri": "https://localhost:8080/",
          "height": 421
        },
        "id": "lnYMYf-vVG3Q",
        "outputId": "925c7cde-0446-4647-bb7f-cf04e96c5217"
      },
      "execution_count": 11,
      "outputs": [
        {
          "output_type": "stream",
          "name": "stdout",
          "text": [
            "Оптимальное значение λ = 5.409548318400026\n"
          ]
        },
        {
          "output_type": "display_data",
          "data": {
            "text/plain": [
              "<Figure size 1080x432 with 2 Axes>"
            ],
            "image/png": "[encoded data removed]"
          },
          "metadata": {
            "needs_background": "light"
          }
        }
      ]
    },
    {
      "cell_type": "markdown",
      "source": [
        "2. Задача №40."
      ],
      "metadata": {
        "id": "0VW-qfu5VssH"
      }
    },
    {
      "cell_type": "code",
      "source": [
        "def make_corr_df(df):\n",
        "    cr = data.corr()\n",
        "    cr = cr.abs().unstack() \n",
        "    cr = cr.sort_values(ascending=False)\n",
        "    cr = cr[cr >= 0.8]\n",
        "    cr = cr[cr < 1]\n",
        "    cr = pd.DataFrame(cr).reset_index()\n",
        "    cr.columns = ['f1', 'f2', 'corr']\n",
        "    return cr"
      ],
      "metadata": {
        "id": "u7sZp8ExUgZe"
      },
      "execution_count": 12,
      "outputs": []
    },
    {
      "cell_type": "code",
      "source": [
        "make_corr_df(data)"
      ],
      "metadata": {
        "colab": {
          "base_uri": "https://localhost:8080/",
          "height": 424
        },
        "id": "0yriXWtmUhRf",
        "outputId": "47fc1c8f-0a21-4c4e-8b98-42d6ff4e629b"
      },
      "execution_count": 13,
      "outputs": [
        {
          "output_type": "execute_result",
          "data": {
            "text/plain": [
              "                               f1                            f2  corr\n",
              "0    Country's Share of World Pop                          Year 1.000\n",
              "1                            Year  Country's Share of World Pop 1.000\n",
              "2                 Yearly % Change                 Yearly Change 1.000\n",
              "3                   Yearly Change               Yearly % Change 1.000\n",
              "4                   Yearly Change              World Population 0.999\n",
              "..                            ...                           ...   ...\n",
              "99               World Population             China Global Rank 0.822\n",
              "100                Migrants (net)                   Urban Pop % 0.819\n",
              "101                   Urban Pop %                Migrants (net) 0.819\n",
              "102                Migrants (net)               Yearly % Change 0.819\n",
              "103               Yearly % Change                Migrants (net) 0.819\n",
              "\n",
              "[104 rows x 3 columns]"
            ],
            "text/html": [
              "\n",
              "  <div id=\"df-0485f0ec-f2d1-4ffd-937b-860ec57c0433\">\n",
              "    <div class=\"colab-df-container\">\n",
              "      <div>\n",
              "<style scoped>\n",
              "    .dataframe tbody tr th:only-of-type {\n",
              "        vertical-align: middle;\n",
              "    }\n",
              "\n",
              "    .dataframe tbody tr th {\n",
              "        vertical-align: top;\n",
              "    }\n",
              "\n",
              "    .dataframe thead th {\n",
              "        text-align: right;\n",
              "    }\n",
              "</style>\n",
              "<table border=\"1\" class=\"dataframe\">\n",
              "  <thead>\n",
              "    <tr style=\"text-align: right;\">\n",
              "      <th></th>\n",
              "      <th>f1</th>\n",
              "      <th>f2</th>\n",
              "      <th>corr</th>\n",
              "    </tr>\n",
              "  </thead>\n",
              "  <tbody>\n",
              "    <tr>\n",
              "      <th>0</th>\n",
              "      <td>Country's Share of World Pop</td>\n",
              "      <td>Year</td>\n",
              "      <td>1.000</td>\n",
              "    </tr>\n",
              "    <tr>\n",
              "      <th>1</th>\n",
              "      <td>Year</td>\n",
              "      <td>Country's Share of World Pop</td>\n",
              "      <td>1.000</td>\n",
              "    </tr>\n",
              "    <tr>\n",
              "      <th>2</th>\n",
              "      <td>Yearly % Change</td>\n",
              "      <td>Yearly Change</td>\n",
              "      <td>1.000</td>\n",
              "    </tr>\n",
              "    <tr>\n",
              "      <th>3</th>\n",
              "      <td>Yearly Change</td>\n",
              "      <td>Yearly % Change</td>\n",
              "      <td>1.000</td>\n",
              "    </tr>\n",
              "    <tr>\n",
              "      <th>4</th>\n",
              "      <td>Yearly Change</td>\n",
              "      <td>World Population</td>\n",
              "      <td>0.999</td>\n",
              "    </tr>\n",
              "    <tr>\n",
              "      <th>...</th>\n",
              "      <td>...</td>\n",
              "      <td>...</td>\n",
              "      <td>...</td>\n",
              "    </tr>\n",
              "    <tr>\n",
              "      <th>99</th>\n",
              "      <td>World Population</td>\n",
              "      <td>China Global Rank</td>\n",
              "      <td>0.822</td>\n",
              "    </tr>\n",
              "    <tr>\n",
              "      <th>100</th>\n",
              "      <td>Migrants (net)</td>\n",
              "      <td>Urban Pop %</td>\n",
              "      <td>0.819</td>\n",
              "    </tr>\n",
              "    <tr>\n",
              "      <th>101</th>\n",
              "      <td>Urban Pop %</td>\n",
              "      <td>Migrants (net)</td>\n",
              "      <td>0.819</td>\n",
              "    </tr>\n",
              "    <tr>\n",
              "      <th>102</th>\n",
              "      <td>Migrants (net)</td>\n",
              "      <td>Yearly % Change</td>\n",
              "      <td>0.819</td>\n",
              "    </tr>\n",
              "    <tr>\n",
              "      <th>103</th>\n",
              "      <td>Yearly % Change</td>\n",
              "      <td>Migrants (net)</td>\n",
              "      <td>0.819</td>\n",
              "    </tr>\n",
              "  </tbody>\n",
              "</table>\n",
              "<p>104 rows × 3 columns</p>\n",
              "</div>\n",
              "      <button class=\"colab-df-convert\" onclick=\"convertToInteractive('df-0485f0ec-f2d1-4ffd-937b-860ec57c0433')\"\n",
              "              title=\"Convert this dataframe to an interactive table.\"\n",
              "              style=\"display:none;\">\n",
              "        \n",
              "  <svg xmlns=\"http://www.w3.org/2000/svg\" height=\"24px\"viewBox=\"0 0 24 24\"\n",
              "       width=\"24px\">\n",
              "    <path d=\"M0 0h24v24H0V0z\" fill=\"none\"/>\n",
              "    <path d=\"M18.56 5.44l.94 2.06.94-2.06 2.06-.94-2.06-.94-.94-2.06-.94 2.06-2.06.94zm-11 1L8.5 8.5l.94-2.06 2.06-.94-2.06-.94L8.5 2.5l-.94 2.06-2.06.94zm10 10l.94 2.06.94-2.06 2.06-.94-2.06-.94-.94-2.06-.94 2.06-2.06.94z\"/><path d=\"M17.41 7.96l-1.37-1.37c-.4-.4-.92-.59-1.43-.59-.52 0-1.04.2-1.43.59L10.3 9.45l-7.72 7.72c-.78.78-.78 2.05 0 2.83L4 21.41c.39.39.9.59 1.41.59.51 0 1.02-.2 1.41-.59l7.78-7.78 2.81-2.81c.8-.78.8-2.07 0-2.86zM5.41 20L4 18.59l7.72-7.72 1.47 1.35L5.41 20z\"/>\n",
              "  </svg>\n",
              "      </button>\n",
              "      \n",
              "  <style>\n",
              "    .colab-df-container {\n",
              "      display:flex;\n",
              "      flex-wrap:wrap;\n",
              "      gap: 12px;\n",
              "    }\n",
              "\n",
              "    .colab-df-convert {\n",
              "      background-color: #E8F0FE;\n",
              "      border: none;\n",
              "      border-radius: 50%;\n",
              "      cursor: pointer;\n",
              "      display: none;\n",
              "      fill: #1967D2;\n",
              "      height: 32px;\n",
              "      padding: 0 0 0 0;\n",
              "      width: 32px;\n",
              "    }\n",
              "\n",
              "    .colab-df-convert:hover {\n",
              "      background-color: #E2EBFA;\n",
              "      box-shadow: 0px 1px 2px rgba(60, 64, 67, 0.3), 0px 1px 3px 1px rgba(60, 64, 67, 0.15);\n",
              "      fill: #174EA6;\n",
              "    }\n",
              "\n",
              "    [theme=dark] .colab-df-convert {\n",
              "      background-color: #3B4455;\n",
              "      fill: #D2E3FC;\n",
              "    }\n",
              "\n",
              "    [theme=dark] .colab-df-convert:hover {\n",
              "      background-color: #434B5C;\n",
              "      box-shadow: 0px 1px 3px 1px rgba(0, 0, 0, 0.15);\n",
              "      filter: drop-shadow(0px 1px 2px rgba(0, 0, 0, 0.3));\n",
              "      fill: #FFFFFF;\n",
              "    }\n",
              "  </style>\n",
              "\n",
              "      <script>\n",
              "        const buttonEl =\n",
              "          document.querySelector('#df-0485f0ec-f2d1-4ffd-937b-860ec57c0433 button.colab-df-convert');\n",
              "        buttonEl.style.display =\n",
              "          google.colab.kernel.accessAllowed ? 'block' : 'none';\n",
              "\n",
              "        async function convertToInteractive(key) {\n",
              "          const element = document.querySelector('#df-0485f0ec-f2d1-4ffd-937b-860ec57c0433');\n",
              "          const dataTable =\n",
              "            await google.colab.kernel.invokeFunction('convertToInteractive',\n",
              "                                                     [key], {});\n",
              "          if (!dataTable) return;\n",
              "\n",
              "          const docLinkHtml = 'Like what you see? Visit the ' +\n",
              "            '<a target=\"_blank\" href=https://colab.research.google.com/notebooks/data_table.ipynb>data table notebook</a>'\n",
              "            + ' to learn more about interactive tables.';\n",
              "          element.innerHTML = '';\n",
              "          dataTable['output_type'] = 'display_data';\n",
              "          await google.colab.output.renderOutput(dataTable, element);\n",
              "          const docLink = document.createElement('div');\n",
              "          docLink.innerHTML = docLinkHtml;\n",
              "          element.appendChild(docLink);\n",
              "        }\n",
              "      </script>\n",
              "    </div>\n",
              "  </div>\n",
              "  "
            ]
          },
          "metadata": {},
          "execution_count": 13
        }
      ]
    },
    {
      "cell_type": "code",
      "source": [
        "def corr_groups(cr):\n",
        "    grouped_feature_list = []\n",
        "    correlated_groups = []\n",
        "\n",
        "    for feature in cr['f1'].unique():\n",
        "        if feature not in grouped_feature_list:\n",
        "            # находим коррелирующие признаки\n",
        "            correlated_block = cr[cr['f1'] == feature]\n",
        "            cur_dups = list(correlated_block['f2'].unique()) + [feature]\n",
        "            grouped_feature_list = grouped_feature_list + cur_dups\n",
        "            correlated_groups.append(cur_dups)\n",
        "    return correlated_groups"
      ],
      "metadata": {
        "id": "TKAzPMT6Uoje"
      },
      "execution_count": 14,
      "outputs": []
    },
    {
      "cell_type": "code",
      "source": [
        "corr_groups(make_corr_df(data))"
      ],
      "metadata": {
        "colab": {
          "base_uri": "https://localhost:8080/"
        },
        "id": "A70lbR7dUtYW",
        "outputId": "74ebfa00-e5e7-4ef3-e01b-9c5843e9e6b9"
      },
      "execution_count": 15,
      "outputs": [
        {
          "output_type": "execute_result",
          "data": {
            "text/plain": [
              "[['Year',\n",
              "  'World Population',\n",
              "  'Yearly Change',\n",
              "  'Yearly % Change',\n",
              "  'Median Age_boxcox',\n",
              "  'Urban Pop %',\n",
              "  'Median Age',\n",
              "  'Urban Population',\n",
              "  'Migrants (net)',\n",
              "  \"Country's Share of World Pop\"],\n",
              " ['Density (P/Km²)', 'Population'],\n",
              " ['Urban Population',\n",
              "  'Median Age',\n",
              "  'Urban Pop %',\n",
              "  'Yearly Change',\n",
              "  'Yearly % Change',\n",
              "  'Median Age_boxcox',\n",
              "  'World Population',\n",
              "  'China Global Rank']]"
            ]
          },
          "metadata": {},
          "execution_count": 15
        }
      ]
    },
    {
      "cell_type": "code",
      "source": [
        "import numpy as np\n",
        "import pandas as pd\n",
        "import matplotlib.pyplot as plt\n",
        "import seaborn as sns\n",
        "from sklearn.datasets import load_boston\n",
        "from sklearn.feature_selection import mutual_info_classif, mutual_info_regression\n",
        "from sklearn.model_selection import train_test_split\n",
        "color=sns.color_palette()\n",
        "sns.set_style('darkgrid')\n",
        "pd.set_option('display.float_format',lambda x: '{:.3f}'.format(x))\n",
        "%matplotlib inline"
      ],
      "metadata": {
        "id": "U8QAsUDomhME"
      },
      "execution_count": 26,
      "outputs": []
    },
    {
      "cell_type": "code",
      "source": [
        "data_2=pd.read_csv('water_potability.csv')\n",
        "data_2.info()\n",
        "data_2.head()"
      ],
      "metadata": {
        "colab": {
          "base_uri": "https://localhost:8080/",
          "height": 501
        },
        "id": "xQVTDkSYkc88",
        "outputId": "e97b5456-edd7-4fb0-d193-f2320c953c02"
      },
      "execution_count": 27,
      "outputs": [
        {
          "output_type": "stream",
          "name": "stdout",
          "text": [
            "<class 'pandas.core.frame.DataFrame'>\n",
            "RangeIndex: 40 entries, 0 to 39\n",
            "Data columns (total 10 columns):\n",
            " #   Column           Non-Null Count  Dtype  \n",
            "---  ------           --------------  -----  \n",
            " 0   ph               40 non-null     float64\n",
            " 1   Hardness         40 non-null     float64\n",
            " 2   Solids           40 non-null     float64\n",
            " 3   Chloramines      40 non-null     float64\n",
            " 4   Sulfate          40 non-null     float64\n",
            " 5   Conductivity     40 non-null     float64\n",
            " 6   Organic_carbon   40 non-null     float64\n",
            " 7   Trihalomethanes  40 non-null     float64\n",
            " 8   Turbidity        40 non-null     float64\n",
            " 9   Potability       40 non-null     int64  \n",
            "dtypes: float64(9), int64(1)\n",
            "memory usage: 3.2 KB\n"
          ]
        },
        {
          "output_type": "execute_result",
          "data": {
            "text/plain": [
              "     ph  Hardness    Solids  Chloramines  Sulfate  Conductivity  \\\n",
              "0 3.380   204.890 20791.319        7.300  368.516       564.309   \n",
              "1 3.716   129.423 18630.058        6.635    3.142       592.885   \n",
              "2 8.099   224.236 19909.542        9.276    2.013       418.606   \n",
              "3 8.317   214.373 22018.417        8.059  356.886       363.267   \n",
              "4 9.092   181.102 17978.986        6.547  310.136       398.411   \n",
              "\n",
              "   Organic_carbon  Trihalomethanes  Turbidity  Potability  \n",
              "0          10.380           86.991      2.963           0  \n",
              "1          15.180           56.329      4.501           0  \n",
              "2          16.869           66.420      3.056           0  \n",
              "3          18.437          100.342      4.629           0  \n",
              "4          11.558           31.998      4.075           0  "
            ],
            "text/html": [
              "\n",
              "  <div id=\"df-1cc7f7f4-200e-47bb-9ba2-3f65aa6ed379\">\n",
              "    <div class=\"colab-df-container\">\n",
              "      <div>\n",
              "<style scoped>\n",
              "    .dataframe tbody tr th:only-of-type {\n",
              "        vertical-align: middle;\n",
              "    }\n",
              "\n",
              "    .dataframe tbody tr th {\n",
              "        vertical-align: top;\n",
              "    }\n",
              "\n",
              "    .dataframe thead th {\n",
              "        text-align: right;\n",
              "    }\n",
              "</style>\n",
              "<table border=\"1\" class=\"dataframe\">\n",
              "  <thead>\n",
              "    <tr style=\"text-align: right;\">\n",
              "      <th></th>\n",
              "      <th>ph</th>\n",
              "      <th>Hardness</th>\n",
              "      <th>Solids</th>\n",
              "      <th>Chloramines</th>\n",
              "      <th>Sulfate</th>\n",
              "      <th>Conductivity</th>\n",
              "      <th>Organic_carbon</th>\n",
              "      <th>Trihalomethanes</th>\n",
              "      <th>Turbidity</th>\n",
              "      <th>Potability</th>\n",
              "    </tr>\n",
              "  </thead>\n",
              "  <tbody>\n",
              "    <tr>\n",
              "      <th>0</th>\n",
              "      <td>3.380</td>\n",
              "      <td>204.890</td>\n",
              "      <td>20791.319</td>\n",
              "      <td>7.300</td>\n",
              "      <td>368.516</td>\n",
              "      <td>564.309</td>\n",
              "      <td>10.380</td>\n",
              "      <td>86.991</td>\n",
              "      <td>2.963</td>\n",
              "      <td>0</td>\n",
              "    </tr>\n",
              "    <tr>\n",
              "      <th>1</th>\n",
              "      <td>3.716</td>\n",
              "      <td>129.423</td>\n",
              "      <td>18630.058</td>\n",
              "      <td>6.635</td>\n",
              "      <td>3.142</td>\n",
              "      <td>592.885</td>\n",
              "      <td>15.180</td>\n",
              "      <td>56.329</td>\n",
              "      <td>4.501</td>\n",
              "      <td>0</td>\n",
              "    </tr>\n",
              "    <tr>\n",
              "      <th>2</th>\n",
              "      <td>8.099</td>\n",
              "      <td>224.236</td>\n",
              "      <td>19909.542</td>\n",
              "      <td>9.276</td>\n",
              "      <td>2.013</td>\n",
              "      <td>418.606</td>\n",
              "      <td>16.869</td>\n",
              "      <td>66.420</td>\n",
              "      <td>3.056</td>\n",
              "      <td>0</td>\n",
              "    </tr>\n",
              "    <tr>\n",
              "      <th>3</th>\n",
              "      <td>8.317</td>\n",
              "      <td>214.373</td>\n",
              "      <td>22018.417</td>\n",
              "      <td>8.059</td>\n",
              "      <td>356.886</td>\n",
              "      <td>363.267</td>\n",
              "      <td>18.437</td>\n",
              "      <td>100.342</td>\n",
              "      <td>4.629</td>\n",
              "      <td>0</td>\n",
              "    </tr>\n",
              "    <tr>\n",
              "      <th>4</th>\n",
              "      <td>9.092</td>\n",
              "      <td>181.102</td>\n",
              "      <td>17978.986</td>\n",
              "      <td>6.547</td>\n",
              "      <td>310.136</td>\n",
              "      <td>398.411</td>\n",
              "      <td>11.558</td>\n",
              "      <td>31.998</td>\n",
              "      <td>4.075</td>\n",
              "      <td>0</td>\n",
              "    </tr>\n",
              "  </tbody>\n",
              "</table>\n",
              "</div>\n",
              "      <button class=\"colab-df-convert\" onclick=\"convertToInteractive('df-1cc7f7f4-200e-47bb-9ba2-3f65aa6ed379')\"\n",
              "              title=\"Convert this dataframe to an interactive table.\"\n",
              "              style=\"display:none;\">\n",
              "        \n",
              "  <svg xmlns=\"http://www.w3.org/2000/svg\" height=\"24px\"viewBox=\"0 0 24 24\"\n",
              "       width=\"24px\">\n",
              "    <path d=\"M0 0h24v24H0V0z\" fill=\"none\"/>\n",
              "    <path d=\"M18.56 5.44l.94 2.06.94-2.06 2.06-.94-2.06-.94-.94-2.06-.94 2.06-2.06.94zm-11 1L8.5 8.5l.94-2.06 2.06-.94-2.06-.94L8.5 2.5l-.94 2.06-2.06.94zm10 10l.94 2.06.94-2.06 2.06-.94-2.06-.94-.94-2.06-.94 2.06-2.06.94z\"/><path d=\"M17.41 7.96l-1.37-1.37c-.4-.4-.92-.59-1.43-.59-.52 0-1.04.2-1.43.59L10.3 9.45l-7.72 7.72c-.78.78-.78 2.05 0 2.83L4 21.41c.39.39.9.59 1.41.59.51 0 1.02-.2 1.41-.59l7.78-7.78 2.81-2.81c.8-.78.8-2.07 0-2.86zM5.41 20L4 18.59l7.72-7.72 1.47 1.35L5.41 20z\"/>\n",
              "  </svg>\n",
              "      </button>\n",
              "      \n",
              "  <style>\n",
              "    .colab-df-container {\n",
              "      display:flex;\n",
              "      flex-wrap:wrap;\n",
              "      gap: 12px;\n",
              "    }\n",
              "\n",
              "    .colab-df-convert {\n",
              "      background-color: #E8F0FE;\n",
              "      border: none;\n",
              "      border-radius: 50%;\n",
              "      cursor: pointer;\n",
              "      display: none;\n",
              "      fill: #1967D2;\n",
              "      height: 32px;\n",
              "      padding: 0 0 0 0;\n",
              "      width: 32px;\n",
              "    }\n",
              "\n",
              "    .colab-df-convert:hover {\n",
              "      background-color: #E2EBFA;\n",
              "      box-shadow: 0px 1px 2px rgba(60, 64, 67, 0.3), 0px 1px 3px 1px rgba(60, 64, 67, 0.15);\n",
              "      fill: #174EA6;\n",
              "    }\n",
              "\n",
              "    [theme=dark] .colab-df-convert {\n",
              "      background-color: #3B4455;\n",
              "      fill: #D2E3FC;\n",
              "    }\n",
              "\n",
              "    [theme=dark] .colab-df-convert:hover {\n",
              "      background-color: #434B5C;\n",
              "      box-shadow: 0px 1px 3px 1px rgba(0, 0, 0, 0.15);\n",
              "      filter: drop-shadow(0px 1px 2px rgba(0, 0, 0, 0.3));\n",
              "      fill: #FFFFFF;\n",
              "    }\n",
              "  </style>\n",
              "\n",
              "      <script>\n",
              "        const buttonEl =\n",
              "          document.querySelector('#df-1cc7f7f4-200e-47bb-9ba2-3f65aa6ed379 button.colab-df-convert');\n",
              "        buttonEl.style.display =\n",
              "          google.colab.kernel.accessAllowed ? 'block' : 'none';\n",
              "\n",
              "        async function convertToInteractive(key) {\n",
              "          const element = document.querySelector('#df-1cc7f7f4-200e-47bb-9ba2-3f65aa6ed379');\n",
              "          const dataTable =\n",
              "            await google.colab.kernel.invokeFunction('convertToInteractive',\n",
              "                                                     [key], {});\n",
              "          if (!dataTable) return;\n",
              "\n",
              "          const docLinkHtml = 'Like what you see? Visit the ' +\n",
              "            '<a target=\"_blank\" href=https://colab.research.google.com/notebooks/data_table.ipynb>data table notebook</a>'\n",
              "            + ' to learn more about interactive tables.';\n",
              "          element.innerHTML = '';\n",
              "          dataTable['output_type'] = 'display_data';\n",
              "          await google.colab.output.renderOutput(dataTable, element);\n",
              "          const docLink = document.createElement('div');\n",
              "          docLink.innerHTML = docLinkHtml;\n",
              "          element.appendChild(docLink);\n",
              "        }\n",
              "      </script>\n",
              "    </div>\n",
              "  </div>\n",
              "  "
            ]
          },
          "metadata": {},
          "execution_count": 27
        }
      ]
    },
    {
      "cell_type": "code",
      "source": [
        "a=data_2.drop(labels=['Turbidity'],axis=1)\n",
        "b=data_2.Turbidity"
      ],
      "metadata": {
        "id": "Ex7YsRaZXmlf"
      },
      "execution_count": 28,
      "outputs": []
    },
    {
      "cell_type": "code",
      "source": [
        "a.shape"
      ],
      "metadata": {
        "colab": {
          "base_uri": "https://localhost:8080/"
        },
        "id": "HDG8x3-0Yuet",
        "outputId": "5a2bd650-8ced-404d-a81a-a95ede57d476"
      },
      "execution_count": 29,
      "outputs": [
        {
          "output_type": "execute_result",
          "data": {
            "text/plain": [
              "(40, 9)"
            ]
          },
          "metadata": {},
          "execution_count": 29
        }
      ]
    },
    {
      "cell_type": "markdown",
      "source": [
        "Импорт библиотек"
      ],
      "metadata": {
        "id": "J4gRugwIY8Ts"
      }
    },
    {
      "cell_type": "code",
      "source": [
        "from sklearn.feature_selection import SelectKBest\n",
        "from sklearn.feature_selection import mutual_info_regression"
      ],
      "metadata": {
        "id": "1Re10fl1Y9Gl"
      },
      "execution_count": 30,
      "outputs": []
    },
    {
      "cell_type": "code",
      "source": [
        "mi = mutual_info_regression(a,b)\n",
        "mi = pd.Series(mi)\n",
        "mi.index = a.columns\n",
        "mi.sort_values(ascending=False).plot.bar(figsize=(10,5))\n",
        "plt.ylabel('Взаимная информация')"
      ],
      "metadata": {
        "colab": {
          "base_uri": "https://localhost:8080/",
          "height": 411
        },
        "id": "j4QZCm2yZAYN",
        "outputId": "59f669f8-5137-4dbf-fd6e-388ef8cfa2ee"
      },
      "execution_count": 31,
      "outputs": [
        {
          "output_type": "execute_result",
          "data": {
            "text/plain": [
              "Text(0, 0.5, 'Взаимная информация')"
            ]
          },
          "metadata": {},
          "execution_count": 31
        },
        {
          "output_type": "display_data",
          "data": {
            "text/plain": [
              "<Figure size 720x360 with 1 Axes>"
            ],
            "image/png": "[encoded data removed]"
          },
          "metadata": {
            "needs_background": "light"
          }
        }
      ]
    },
    {
      "cell_type": "code",
      "source": [
        "selector=SelectKBest(mutual_info_regression,k=5)\n",
        "selector.fit(a,b)\n",
        "X_selected=selector.transform(a)\n",
        "X_selected.shape"
      ],
      "metadata": {
        "colab": {
          "base_uri": "https://localhost:8080/"
        },
        "id": "9iyCHg00rfjV",
        "outputId": "9c89ccc2-ed3a-40e6-efed-25c9bc9edb3a"
      },
      "execution_count": 32,
      "outputs": [
        {
          "output_type": "execute_result",
          "data": {
            "text/plain": [
              "(40, 5)"
            ]
          },
          "metadata": {},
          "execution_count": 32
        }
      ]
    },
    {
      "cell_type": "code",
      "source": [
        "selector.get_support(indices=False)"
      ],
      "metadata": {
        "colab": {
          "base_uri": "https://localhost:8080/"
        },
        "id": "irpN2znsri95",
        "outputId": "06f36e6a-16cc-4b42-957e-c6c5294f538d"
      },
      "execution_count": 33,
      "outputs": [
        {
          "output_type": "execute_result",
          "data": {
            "text/plain": [
              "array([False,  True,  True,  True,  True, False, False,  True, False])"
            ]
          },
          "metadata": {},
          "execution_count": 33
        }
      ]
    },
    {
      "cell_type": "code",
      "source": [
        "a.columns[selector.get_support()]"
      ],
      "metadata": {
        "colab": {
          "base_uri": "https://localhost:8080/"
        },
        "id": "N4a0M8mbrmJC",
        "outputId": "6b5eba9c-ef5e-4124-ffd9-38813a60eee6"
      },
      "execution_count": 34,
      "outputs": [
        {
          "output_type": "execute_result",
          "data": {
            "text/plain": [
              "Index(['Hardness', 'Solids', 'Chloramines', 'Sulfate', 'Trihalomethanes'], dtype='object')"
            ]
          },
          "metadata": {},
          "execution_count": 34
        }
      ]
    },
    {
      "cell_type": "code",
      "source": [
        "sns.heatmap(data_2.corr(),annot=True, fmt='.3f')"
      ],
      "metadata": {
        "colab": {
          "base_uri": "https://localhost:8080/",
          "height": 359
        },
        "id": "oMi9-4_4rpmH",
        "outputId": "8c1ea919-5f11-4999-a274-58d90353b325"
      },
      "execution_count": 35,
      "outputs": [
        {
          "output_type": "execute_result",
          "data": {
            "text/plain": [
              "<matplotlib.axes._subplots.AxesSubplot at 0x7fd6c7e57050>"
            ]
          },
          "metadata": {},
          "execution_count": 35
        },
        {
          "output_type": "display_data",
          "data": {
            "text/plain": [
              "<Figure size 432x288 with 2 Axes>"
            ],
            "image/png": "[encoded data removed]"
          },
          "metadata": {
            "needs_background": "light"
          }
        }
      ]
    }
  ]
}